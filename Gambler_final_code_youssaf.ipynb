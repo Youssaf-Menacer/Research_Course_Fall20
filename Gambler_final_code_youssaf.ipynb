{
 "cells": [
  {
   "cell_type": "code",
   "execution_count": 42,
   "metadata": {},
   "outputs": [
    {
     "name": "stdout",
     "output_type": "stream",
     "text": [
      "S=  [0, 1, 2, 3, 4] \n",
      "\n",
      "Length of S=  5 \n",
      "\n",
      "optimal policy=  [0, 1, 2, 1, 0] \n",
      "\n",
      "V=  [0.   0.16 0.4  0.64 0.  ] \n",
      "\n",
      "Run time=  3 n\n"
     ]
    }
   ],
   "source": [
    "import numpy as np\n",
    "import matplotlib.pyplot as plt\n",
    "N = 4\n",
    "theta = 1.0e-5 # stopping condition\n",
    "ph = 0.4 # probability getting head\n",
    "states = list(range(0,N+1)) # S\n",
    "print(\"S= \",states,\"\\n\")\n",
    "V = np.zeros(N+1) # State value function vector\n",
    "policy = [0 for ii in range(N+1)]\n",
    "rewards = np.zeros(N+1)\n",
    "rewards[N] = 1.0 # We only get 1 for the target: N \n",
    "\n",
    "# Function for value evaluation\n",
    "\n",
    "runTime = 1\n",
    "while True:\n",
    "    Delta=[]\n",
    "    for s in (range(1,N)):\n",
    "        old_V = V[s]\n",
    "        opt_V = V[s]\n",
    "        old_action = policy[s]\n",
    "        for a in range(1,min(s,N-s)+1):\n",
    "            V1 = ph * (rewards[s+a] + V[s+a]) \\\n",
    "                     + (1 - ph) * (rewards[s-a] + V[s-a])\n",
    "            if V1 > opt_V+theta:\n",
    "                opt_V = V1\n",
    "                old_action = a  \n",
    "                V[s] = V1\n",
    "                policy[s] = a   # Taking the index of V\n",
    "        d = abs(V[s]-old_V)\n",
    "        Delta.append(d)\n",
    "    if (max(Delta)<theta):\n",
    "        break\n",
    "    runTime += 1\n",
    "\n",
    "print(\"Length of S= \", len(states),\"\\n\")\n",
    "# print(len(policy))\n",
    "print(\"optimal policy= \",policy,\"\\n\")\n",
    "print(\"V= \",V,\"\\n\")\n",
    "print(\"Run time= \",runTime,\"n\")\n",
    "#plt.plot(states, policy)\n",
    "# plt.plot(V)\n",
    "#plt.show()\n"
   ]
  },
  {
   "cell_type": "code",
   "execution_count": 43,
   "metadata": {},
   "outputs": [
    {
     "data": {
      "image/png": "[encoded data removed]",
      "text/plain": [
       "<Figure size 432x288 with 1 Axes>"
      ]
     },
     "metadata": {
      "needs_background": "light"
     },
     "output_type": "display_data"
    }
   ],
   "source": [
    "#Plotting Final Policy (action stake) vs State (Capital)\n",
    "\n",
    "# x axis values\n",
    "x = np.linspace(0, 10, N)\n",
    "# corresponding y axis values\n",
    "y = V[:N]\n",
    " \n",
    "# plotting the points \n",
    "plt.plot(x, y)\n",
    " \n",
    "# naming the x axis\n",
    "plt.xlabel('Capital')\n",
    "# naming the y axis\n",
    "plt.ylabel('Value Function')\n",
    " \n",
    "# giving a title to the graph\n",
    "plt.title('State Value Function vs State (Capital)')\n",
    " \n",
    "# function to show the plot\n",
    "plt.show()"
   ]
  },
  {
   "cell_type": "code",
   "execution_count": 44,
   "metadata": {},
   "outputs": [
    {
     "data": {
      "image/png": "[encoded data removed]",
      "text/plain": [
       "<Figure size 432x288 with 1 Axes>"
      ]
     },
     "metadata": {
      "needs_background": "light"
     },
     "output_type": "display_data"
    }
   ],
   "source": [
    "# Plotting Capital vs Final Policy\n",
    "\n",
    "# x axis values\n",
    "x = range(N+1)\n",
    "# corresponding y axis values\n",
    "y = policy\n",
    " \n",
    "# plotting the bars\n",
    "plt.bar(x, y, align='center', alpha=0.5) \n",
    "# naming the x axis\n",
    "plt.xlabel('Capital')\n",
    "# naming the y axis\n",
    "plt.ylabel('Final policy (stake)')\n",
    " \n",
    "# giving a title to the graph\n",
    "plt.title('Capital vs Final Policy')\n",
    " \n",
    "# function to show the plot\n",
    "plt.show()"
   ]
  },
  {
   "cell_type": "code",
   "execution_count": 39,
   "metadata": {},
   "outputs": [
    {
     "name": "stdout",
     "output_type": "stream",
     "text": [
      "S=  [0, 1, 2, 3, 4, 5, 6, 7, 8, 9, 10, 11, 12, 13, 14, 15, 16, 17, 18, 19, 20, 21, 22, 23, 24, 25, 26, 27, 28, 29, 30, 31, 32, 33, 34, 35, 36, 37, 38, 39, 40, 41, 42, 43, 44, 45, 46, 47, 48, 49, 50, 51, 52, 53, 54, 55, 56, 57, 58, 59, 60, 61, 62, 63, 64, 65, 66, 67, 68, 69, 70, 71, 72, 73, 74, 75, 76, 77, 78, 79, 80, 81, 82, 83, 84, 85, 86, 87, 88, 89, 90, 91, 92, 93, 94, 95, 96, 97, 98, 99, 100] \n",
      "\n",
      "Length of S=  101 \n",
      "\n",
      "optimal policy=  [0, 1, 2, 3, 4, 5, 6, 7, 8, 9, 10, 11, 12, 12, 11, 10, 9, 8, 7, 6, 5, 4, 3, 2, 1, 25, 1, 2, 3, 4, 5, 6, 7, 8, 9, 10, 11, 12, 12, 11, 10, 9, 8, 7, 6, 5, 4, 3, 2, 1, 50, 1, 2, 3, 4, 5, 6, 7, 8, 9, 10, 11, 12, 12, 11, 10, 9, 8, 7, 6, 5, 4, 3, 2, 1, 25, 1, 2, 3, 4, 5, 6, 7, 8, 9, 10, 11, 12, 12, 11, 10, 9, 8, 7, 6, 5, 4, 3, 2, 1, 0] \n",
      "\n",
      "V=  [0.         0.00206203 0.00515507 0.00922512 0.01290418 0.01738208\n",
      " 0.02306279 0.02781073 0.03227457 0.03767825 0.04345519 0.05035153\n",
      " 0.05765697 0.06523722 0.06952681 0.07442007 0.08068644 0.08660695\n",
      " 0.09421092 0.10314233 0.10865204 0.11596417 0.12587883 0.13357072\n",
      " 0.14414243 0.16       0.16309304 0.1677326  0.17383767 0.17935626\n",
      " 0.18607311 0.19459418 0.20171609 0.20841186 0.21651738 0.22518279\n",
      " 0.2355273  0.24648546 0.25785582 0.2643026  0.27164387 0.28102965\n",
      " 0.28991043 0.30131638 0.31471349 0.32297807 0.33394626 0.34881824\n",
      " 0.36036775 0.37621365 0.4        0.40309304 0.4077326  0.41383767\n",
      " 0.41935626 0.42607311 0.43459418 0.44171609 0.44841186 0.45651738\n",
      " 0.46518279 0.4755273  0.48648546 0.49785582 0.5043026  0.51164387\n",
      " 0.52102965 0.52991043 0.54131638 0.55471349 0.56297807 0.57394626\n",
      " 0.58881824 0.60036775 0.61621365 0.64       0.64463956 0.65161376\n",
      " 0.66075651 0.66904712 0.67910967 0.69189128 0.70257413 0.71261779\n",
      " 0.72478983 0.73778684 0.75329095 0.76972819 0.78678374 0.79645391\n",
      " 0.8074658  0.82154448 0.83486564 0.85197457 0.87207024 0.88447948\n",
      " 0.90091938 0.92324214 0.94055163 0.96433098 0.        ] \n",
      "\n",
      "Run time=  11 n\n"
     ]
    }
   ],
   "source": [
    "import numpy as np\n",
    "import matplotlib.pyplot as plt\n",
    "N = 100\n",
    "theta = 1.0e-5 # stopping condition\n",
    "ph = 0.4 # probability getting head\n",
    "states = list(range(0,N+1)) # S\n",
    "print(\"S= \",states,\"\\n\")\n",
    "V = np.zeros(N+1) # State value function vector\n",
    "policy = [0 for ii in range(N+1)]\n",
    "rewards = np.zeros(N+1)\n",
    "rewards[N] = 1.0 # We only get 1 for the target: N \n",
    "\n",
    "# Function for value evaluation\n",
    "\n",
    "runTime = 1\n",
    "while True:\n",
    "    Delta=[]\n",
    "    for s in (range(1,N)):\n",
    "        old_V = V[s]\n",
    "        opt_V = V[s]\n",
    "        old_action = policy[s]\n",
    "        for a in range(1,min(s,N-s)+1):\n",
    "            V1 = ph * (rewards[s+a] + V[s+a]) \\\n",
    "                     + (1 - ph) * (rewards[s-a] + V[s-a])\n",
    "            if V1 > opt_V+theta:\n",
    "                opt_V = V1\n",
    "                old_action = a  \n",
    "                V[s] = V1\n",
    "                policy[s] = a   # Taking the index of V\n",
    "        d = abs(V[s]-old_V)\n",
    "        Delta.append(d)\n",
    "    if (max(Delta)<theta):\n",
    "        break\n",
    "    runTime += 1\n",
    "\n",
    "print(\"Length of S= \", len(states),\"\\n\")\n",
    "# print(len(policy))\n",
    "print(\"optimal policy= \",policy,\"\\n\")\n",
    "print(\"V= \",V,\"\\n\")\n",
    "print(\"Run time= \",runTime,\"n\")\n",
    "#plt.plot(states, policy)\n",
    "# plt.plot(V)\n",
    "#plt.show()"
   ]
  },
  {
   "cell_type": "code",
   "execution_count": 40,
   "metadata": {},
   "outputs": [
    {
     "data": {
      "image/png": "[encoded data removed]",
      "text/plain": [
       "<Figure size 432x288 with 1 Axes>"
      ]
     },
     "metadata": {
      "needs_background": "light"
     },
     "output_type": "display_data"
    }
   ],
   "source": [
    "#Plotting Final Policy (action stake) vs State (Capital)\n",
    "\n",
    "# x axis values\n",
    "x = range(N)\n",
    "# corresponding y axis values\n",
    "y = V[:N]\n",
    " \n",
    "# plotting the points \n",
    "plt.plot(x, y)\n",
    " \n",
    "# naming the x axis\n",
    "plt.xlabel('Capital')\n",
    "# naming the y axis\n",
    "plt.ylabel('Value Function')\n",
    " \n",
    "# giving a title to the graph\n",
    "plt.title('State Value Function vs State (Capital)')\n",
    " \n",
    "# function to show the plot\n",
    "plt.show()"
   ]
  },
  {
   "cell_type": "code",
   "execution_count": 41,
   "metadata": {},
   "outputs": [
    {
     "data": {
      "image/png": "[encoded data removed]",
      "text/plain": [
       "<Figure size 432x288 with 1 Axes>"
      ]
     },
     "metadata": {
      "needs_background": "light"
     },
     "output_type": "display_data"
    }
   ],
   "source": [
    "# Plotting Capital vs Final Policy\n",
    "\n",
    "# x axis values\n",
    "x = range(N+1)\n",
    "# corresponding y axis values\n",
    "y = policy\n",
    " \n",
    "# plotting the bars\n",
    "plt.bar(x, y, align='center', alpha=0.5) \n",
    "# naming the x axis\n",
    "plt.xlabel('Capital')\n",
    "# naming the y axis\n",
    "plt.ylabel('Final policy (stake)')\n",
    " \n",
    "# giving a title to the graph\n",
    "plt.title('Capital vs Final Policy')\n",
    " \n",
    "# function to show the plot\n",
    "plt.show()"
   ]
  },
  {
   "cell_type": "code",
   "execution_count": null,
   "metadata": {},
   "outputs": [],
   "source": []
  }
 ],
 "metadata": {
  "kernelspec": {
   "display_name": "Python 3",
   "language": "python",
   "name": "python3"
  },
  "language_info": {
   "codemirror_mode": {
    "name": "ipython",
    "version": 3
   },
   "file_extension": ".py",
   "mimetype": "text/x-python",
   "name": "python",
   "nbconvert_exporter": "python",
   "pygments_lexer": "ipython3",
   "version": "3.7.3"
  }
 },
 "nbformat": 4,
 "nbformat_minor": 2
}
