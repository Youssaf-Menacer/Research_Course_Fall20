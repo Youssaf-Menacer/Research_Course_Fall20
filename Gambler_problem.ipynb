{
 "cells": [
  {
   "cell_type": "code",
   "execution_count": 27,
   "metadata": {},
   "outputs": [],
   "source": [
    "import numpy as np\n",
    "import sys\n",
    "import matplotlib.pyplot as plt\n",
    "if \"../\" not in sys.path:\n",
    "  sys.path.append(\"../\")\n"
   ]
  },
  {
   "cell_type": "code",
   "execution_count": 28,
   "metadata": {},
   "outputs": [],
   "source": [
    "def State_value_function(ph,gamma=1,theta=0.0001):\n",
    "    \"\"\"\n",
    "    Args:\n",
    "        p_h: Probability of the coin coming up heads\n",
    "    \"\"\"\n",
    "    # The reward is zero on all transitions except those on which the gambler reaches his goal,\n",
    "    # when it is +1.\n",
    "    N=4\n",
    "    r = np.zeros(N+1)\n",
    "    r[N] = 1 \n",
    "    \n",
    "    # We introduce two dummy states corresponding to termination with capital of 0 and 100\n",
    "    \n",
    "    #V0 = np.zeros(N+1)\n",
    "    V = np.zeros(N+1)\n",
    "    S = range(1, N) # Stakes set. Your minimum bet is 1, maximum bet is min(s, N-s).\n",
    "    while True:\n",
    "        for s in S:\n",
    "            V[s]=ph*(r[s+1]+V[s+1]*gamma)+(1-ph)*(r[s-1]+V[s-1]*gamma)\n",
    "            #print(\"V= \", V)\n",
    "    \n",
    "        while True:\n",
    "            # Stopping condition\n",
    "            delta = 0\n",
    "            # Update each state...\n",
    "            for s in range(1, N):\n",
    "                v = np.max(V)\n",
    "                # Calculate delta across all states seen so far\n",
    "                delta = max(delta, np.abs(v - V[s]))\n",
    "                # Update the value function. Ref: Sutton book eq. 4.10. \n",
    "                V[s] = v        \n",
    "            # Check if we can stop \n",
    "            if delta < theta:\n",
    "                break\n",
    "        policy = np.zeros(N)\n",
    "        policy_stable=True\n",
    "        for s in S:\n",
    "            old_action=policy[s]\n",
    "            policy[s]=np.argmax(V)\n",
    "            if old_action!= policy[s]:\n",
    "                policy_stable=False\n",
    "        if policy_stable:\n",
    "            break\n",
    "        else:\n",
    "            continue         \n",
    "    return policy, V"
   ]
  },
  {
   "cell_type": "code",
   "execution_count": null,
   "metadata": {},
   "outputs": [],
   "source": [
    "policy, v = State_value_function(ph=0.4,gamma=1,theta=0.0001)\n",
    "\n",
    "print(\"Optimized Policy:\")\n",
    "print(policy)\n",
    "print(\"\")\n",
    "\n",
    "print(\"Optimized Value Function:\")\n",
    "print(v)\n",
    "print(\"\")"
   ]
  },
  {
   "cell_type": "code",
   "execution_count": 22,
   "metadata": {},
   "outputs": [
    {
     "data": {
      "image/png": "[encoded data removed]",
      "text/plain": [
       "<Figure size 432x288 with 1 Axes>"
      ]
     },
     "metadata": {
      "needs_background": "light"
     },
     "output_type": "display_data"
    }
   ],
   "source": [
    "# Plotting Final Policy (action stake) vs State (Capital)\n",
    "\n",
    "# x axis values\n",
    "x = range(100)\n",
    "# corresponding y axis values\n",
    "y = v[:100]\n",
    " \n",
    "# plotting the points \n",
    "plt.plot(x, y)\n",
    " \n",
    "# naming the x axis\n",
    "plt.xlabel('Capital')\n",
    "# naming the y axis\n",
    "plt.ylabel('Value Estimates')\n",
    " \n",
    "# giving a title to the graph\n",
    "plt.title('Final Policy (action stake) vs State (Capital)')\n",
    " \n",
    "# function to show the plot\n",
    "plt.show()"
   ]
  },
  {
   "cell_type": "code",
   "execution_count": 32,
   "metadata": {},
   "outputs": [
    {
     "data": {
      "image/png": "[encoded data removed]",
      "text/plain": [
       "<Figure size 432x288 with 1 Axes>"
      ]
     },
     "metadata": {
      "needs_background": "light"
     },
     "output_type": "display_data"
    }
   ],
   "source": [
    "# Plotting Capital vs Final Policy\n",
    "\n",
    "# x axis values\n",
    "x = range(100)\n",
    "# corresponding y axis values\n",
    "y = policy\n",
    " \n",
    "# plotting the bars\n",
    "plt.bar(x, y, align='center', alpha=0.5)\n",
    " \n",
    "# naming the x axis\n",
    "plt.xlabel('Capital')\n",
    "# naming the y axis\n",
    "plt.ylabel('Final policy (stake)')\n",
    " \n",
    "# giving a title to the graph\n",
    "plt.title('Capital vs Final Policy')\n",
    " \n",
    "# function to show the plot\n",
    "plt.show()"
   ]
  },
  {
   "cell_type": "code",
   "execution_count": null,
   "metadata": {},
   "outputs": [],
   "source": []
  }
 ],
 "metadata": {
  "kernelspec": {
   "display_name": "Python 3",
   "language": "python",
   "name": "python3"
  },
  "language_info": {
   "codemirror_mode": {
    "name": "ipython",
    "version": 3
   },
   "file_extension": ".py",
   "mimetype": "text/x-python",
   "name": "python",
   "nbconvert_exporter": "python",
   "pygments_lexer": "ipython3",
   "version": "3.7.3"
  }
 },
 "nbformat": 4,
 "nbformat_minor": 2
}
