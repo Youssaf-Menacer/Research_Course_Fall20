{
 "cells": [
  {
   "cell_type": "code",
   "execution_count": 5,
   "metadata": {},
   "outputs": [],
   "source": [
    "import numpy as np\n",
    "import sys\n",
    "import matplotlib.pyplot as plt\n",
    "if \"../\" not in sys.path:\n",
    "  sys.path.append(\"../\")"
   ]
  },
  {
   "cell_type": "code",
   "execution_count": 39,
   "metadata": {},
   "outputs": [],
   "source": [
    "def State_value_function(ph,gamma=1,theta=0.0001):\n",
    "    \"\"\"\n",
    "    Args:\n",
    "        p_h: Probability of the coin coming up heads\n",
    "    \"\"\"\n",
    "    # The reward is zero on all transitions except those on which the gambler reaches his goal,\n",
    "    # when it is +1.\n",
    "    N=100\n",
    "    r = np.zeros(N+1)\n",
    "    r[N] = 1 \n",
    "    \n",
    "    # We introduce two dummy states corresponding to termination with capital of 0 and 100\n",
    "    \n",
    "    #V0 = np.zeros(N+1)\n",
    "    V = np.ones(N+1)\n",
    "    S = range(1, N) # Stakes set. Your minimum bet is 1, maximum bet is min(s, N-s).\n",
    "    policy = np.ones(N+1)\n",
    "    policy[0]=0\n",
    "    policy[N]=0\n",
    "    delta = 0\n",
    "    while True:\n",
    "        \n",
    "        for s in S:\n",
    "            v = V[s]\n",
    "            V[s]=ph*(r[s+int(policy[s])]+V[s+int(policy[s])]*gamma)+(1-ph)*(r[s-int(policy[s])]+V[s-int(policy[s])]*gamma)\n",
    "            #print(\"V= \", V)\n",
    "            # Stopping condition\n",
    "            # Update each state...\n",
    "                # Calculate delta across all states seen so far\n",
    "            delta = max(delta, np.abs(v - V[s]))\n",
    "            #print(\"d= \", delta)\n",
    "                # Update the value function. Ref: Sutton book eq. 4.10.        \n",
    "            # Check if we can stop \n",
    "            if delta < theta:\n",
    "                break\n",
    "        #print(\"V= \", V)        \n",
    "        policy_stable=True\n",
    "        for s in S:\n",
    "            A=min(s,N-s)\n",
    "            V0=np.zeros(N+1)\n",
    "            old_action=policy[s]\n",
    "            for a in range(1,A+1):\n",
    "                V0[a]=ph*(r[s+a]+V[s+a]*gamma)+(1-ph)*(r[s-a]+V[s-a]*gamma)\n",
    "            policy[s]=np.argmax(V0)\n",
    "#             print(\"p= \", policy)\n",
    "            if old_action!= policy[s]:\n",
    "                policy_stable=False\n",
    "        if policy_stable:\n",
    "            break\n",
    "        else:\n",
    "            continue                  \n",
    "    return delta, policy, V"
   ]
  },
  {
   "cell_type": "code",
   "execution_count": 40,
   "metadata": {},
   "outputs": [
    {
     "name": "stdout",
     "output_type": "stream",
     "text": [
      "delta:\n",
      "0\n",
      "\n",
      "Optimized Policy:\n",
      "[ 0.  1.  1.  1.  1.  1.  1.  1.  1.  1.  1.  1.  1.  1.  1.  1.  1.  1.\n",
      "  1.  1.  1.  1.  1.  1.  1.  1.  1.  1.  1.  1.  1.  1.  1.  1.  1.  1.\n",
      "  1.  1.  1.  1.  1.  1.  1.  1.  1.  1.  1.  1.  1.  1. 50. 49. 48. 47.\n",
      " 46. 45. 44. 43. 42. 41. 40. 39. 38. 37. 36. 35. 34. 33. 32. 31. 30. 29.\n",
      " 28. 27. 26. 25. 24. 23. 22. 21. 20. 19. 18. 17. 16. 15. 14. 13. 12. 11.\n",
      " 10.  9.  8.  7.  6.  5.  4.  3.  2.  1.  0.]\n",
      "\n",
      "Optimized Value Function:\n",
      "[1. 1. 1. 1. 1. 1. 1. 1. 1. 1. 1. 1. 1. 1. 1. 1. 1. 1. 1. 1. 1. 1. 1. 1.\n",
      " 1. 1. 1. 1. 1. 1. 1. 1. 1. 1. 1. 1. 1. 1. 1. 1. 1. 1. 1. 1. 1. 1. 1. 1.\n",
      " 1. 1. 1. 1. 1. 1. 1. 1. 1. 1. 1. 1. 1. 1. 1. 1. 1. 1. 1. 1. 1. 1. 1. 1.\n",
      " 1. 1. 1. 1. 1. 1. 1. 1. 1. 1. 1. 1. 1. 1. 1. 1. 1. 1. 1. 1. 1. 1. 1. 1.\n",
      " 1. 1. 1. 1. 1.]\n",
      "\n"
     ]
    }
   ],
   "source": [
    "delta, policy, v = State_value_function(ph=0.4,gamma=1,theta=0.0001)\n",
    "print(\"delta:\")\n",
    "print(delta)\n",
    "print(\"\")\n",
    "print(\"Optimized Policy:\")\n",
    "print(policy)\n",
    "print(\"\")\n",
    "\n",
    "print(\"Optimized Value Function:\")\n",
    "print(v)\n",
    "print(\"\")"
   ]
  },
  {
   "cell_type": "code",
   "execution_count": 41,
   "metadata": {},
   "outputs": [
    {
     "data": {
      "image/png": "[encoded data removed]",
      "text/plain": [
       "<Figure size 432x288 with 1 Axes>"
      ]
     },
     "metadata": {
      "needs_background": "light"
     },
     "output_type": "display_data"
    }
   ],
   "source": [
    "#Plotting Final Policy (action stake) vs State (Capital)\n",
    "\n",
    "# x axis values\n",
    "x = range(100)\n",
    "# corresponding y axis values\n",
    "y = v[:100]\n",
    " \n",
    "# plotting the points \n",
    "plt.plot(x, y)\n",
    " \n",
    "# naming the x axis\n",
    "plt.xlabel('Capital')\n",
    "# naming the y axis\n",
    "plt.ylabel('Value Function')\n",
    " \n",
    "# giving a title to the graph\n",
    "plt.title('State Value Function vs State (Capital)')\n",
    " \n",
    "# function to show the plot\n",
    "plt.show()"
   ]
  },
  {
   "cell_type": "code",
   "execution_count": 42,
   "metadata": {},
   "outputs": [
    {
     "data": {
      "image/png": "[encoded data removed]",
      "text/plain": [
       "<Figure size 432x288 with 1 Axes>"
      ]
     },
     "metadata": {
      "needs_background": "light"
     },
     "output_type": "display_data"
    }
   ],
   "source": [
    "# Plotting Capital vs Final Policy\n",
    "\n",
    "# x axis values\n",
    "x = range(101)\n",
    "# corresponding y axis values\n",
    "y = policy\n",
    " \n",
    "# plotting the bars\n",
    "plt.bar(x, y, align='center', alpha=0.5) \n",
    "# naming the x axis\n",
    "plt.xlabel('Capital')\n",
    "# naming the y axis\n",
    "plt.ylabel('Final policy (stake)')\n",
    " \n",
    "# giving a title to the graph\n",
    "plt.title('Capital vs Final Policy')\n",
    " \n",
    "# function to show the plot\n",
    "plt.show()"
   ]
  },
  {
   "cell_type": "code",
   "execution_count": null,
   "metadata": {},
   "outputs": [],
   "source": []
  }
 ],
 "metadata": {
  "kernelspec": {
   "display_name": "Python 3",
   "language": "python",
   "name": "python3"
  },
  "language_info": {
   "codemirror_mode": {
    "name": "ipython",
    "version": 3
   },
   "file_extension": ".py",
   "mimetype": "text/x-python",
   "name": "python",
   "nbconvert_exporter": "python",
   "pygments_lexer": "ipython3",
   "version": "3.7.3"
  }
 },
 "nbformat": 4,
 "nbformat_minor": 2
}
